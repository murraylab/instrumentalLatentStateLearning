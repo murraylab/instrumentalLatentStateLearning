{
 "cells": [
  {
   "cell_type": "markdown",
   "metadata": {},
   "source": [
    "# Model Intuition\n",
    "This notebook is designed to build intuition regarding key model components. Consider this a tutorial on the model's fundamental mechanisms. It will move through those components one by one, introducing the algorithm along with code to work through. For an indepth explanation of the model, please see the methods. For the full code of the model, please see the implementation provided in this repository."
   ]
  },
  {
   "cell_type": "code",
   "execution_count": 2,
   "metadata": {},
   "outputs": [],
   "source": [
    "from modelIntuitionFunctions import *"
   ]
  },
  {
   "cell_type": "markdown",
   "metadata": {},
   "source": [
    "## Estimate Context\n",
    " First, we're going to look at how the model infers context. This is the step surrounded by the black dashed lines in the diagram below. \n",
    "\n",
    "![estimate_context_diagram](files/diagram_estimate_context.png)\n",
    "\n",
    "The models estimate context through creating a set of the most likely states. That process is dictated by the algorithm:\n",
    "\n",
    "![estimate_context_algorithm](files/algorithm_estimate_context.png)\n",
    "\n",
    "We will walk through a simplified version, where you can specify the incoming cues, along with the states and the threshold for context inclusion. Consider the case in the diagram, where the model is trying to determine the type of cereal. Let's say the first two elements of the cue vector are associated with the color of the cereal (gold or brown), the second two with the size of the grains (small or medium), and the third with the serving dish (bowl or plate). Here's an example, breaking down the components of the vector. \n",
    "\n",
    "![cue_vector_description](files/cue_vector_description_2.png)\n",
    "\n",
    "In the background, we're converting the states you provide into prototypes, but you don't have to worry about that for now. "
   ]
  },
  {
   "cell_type": "code",
   "execution_count": 2,
   "metadata": {},
   "outputs": [
    {
     "name": "stdout",
     "output_type": "stream",
     "text": [
      "The surprise index for each state is [-40.52759314036919, 584.4724067911019, 584.4724068028685, inf]\n",
      "The context is: \n",
      "[[1 0 1 0 1 0]\n",
      " [0 1 1 0 1 0]\n",
      " [1 0 0 1 1 0]]\n"
     ]
    },
    {
     "name": "stderr",
     "output_type": "stream",
     "text": [
      "/Users/wpettine/Dropbox/_Murray/Project/state_creation_RL/Paper/code/repos/MultiLatentStateInstrumentalLearning/model_intuition/modelIntuitionFunctions.py:171: RuntimeWarning: divide by zero encountered in log\n",
      "  S = -1 * np.log(A)\n"
     ]
    }
   ],
   "source": [
    "# Initial cue where the elements are associated with: [color,color,size,size,dish,dish]\n",
    "cue = np.array([1, 0, 1, 0, 1, 0]).astype(int)\n",
    "\n",
    "# Different types of cereals\n",
    "states = np.array([\n",
    "    [1, 0, 1, 0, 1, 0],\n",
    "    [0, 1, 1, 0, 1, 0],\n",
    "    [1, 0, 0, 1, 1, 0],\n",
    "    [0, 1, 0, 1, 1, 0]\n",
    "])\n",
    "\n",
    "# What is the threshold for inclusion in the context? The higher the number, the more are included\n",
    "context_surprise_threshold = 600\n",
    "\n",
    "# Calculate the context\n",
    "context_states, surprise = inferContext(cue, states, context_surprise_threshold)\n",
    "print(f'The surprise index for each state is {surprise}')\n",
    "print(f'The context is: \\n{context_states}')\n"
   ]
  },
  {
   "cell_type": "markdown",
   "metadata": {},
   "source": [
    "## Feature Attention\n",
    "Now that we have a set of states forming the context, we'll determine the features that are most useful in discriminating between the options. These features become the targets of attention. The step is outlined in black dotted lines\n",
    "\n",
    "![compute_feature_attention_diagram](files/diagram_compute_feature_attention.png)\n",
    "\n",
    "### Compute Feature Attention Weights (mutual information)\n",
    "\n",
    "First, we determine the weights for the features that maximally differentiate between potential states. Our model implements this through the computation of mutual information, as described in the following algorithm. \n",
    "\n",
    "![compute_feature_attention_algorithm](files/algorithm_compute_feature_attention_2.png)\n",
    "\n",
    "To make it tangible, we'll calculate the weights for the states included in the context. Play with them and see how it shapes the weights. For reference, here are the options:\n",
    "\n",
    "[1, 0, 1, 0, 1, 0]\n",
    "\n",
    "[0, 1, 1, 0, 1, 0]\n",
    "\n",
    "[1, 0, 0, 1, 1, 0]\n",
    "\n",
    "[0, 1, 0, 1, 1, 0]"
   ]
  },
  {
   "cell_type": "code",
   "execution_count": 3,
   "metadata": {},
   "outputs": [
    {
     "data": {
      "text/plain": [
       "Text(0.5, 1.0, 'Feature Attention (MI)')"
      ]
     },
     "execution_count": 3,
     "metadata": {},
     "output_type": "execute_result"
    },
    {
     "data": {
      "image/png": "[encoded data removed]",
      "text/plain": [
       "<Figure size 432x288 with 1 Axes>"
      ]
     },
     "metadata": {
      "needs_background": "light"
     },
     "output_type": "display_data"
    }
   ],
   "source": [
    "context_states = np.array([\n",
    "    [1, 0, 1, 0, 1, 0],\n",
    "    [0, 1, 1, 0, 1, 0],\n",
    "    [1, 0, 0, 1, 1, 0]\n",
    "])\n",
    "\n",
    "#Calcualte the mutual information for each feature\n",
    "MI = np.ones(context_states.shape[1])\n",
    "for c in range(len(MI)):\n",
    "    MI[c] = calcEntropy(context_states[:,c])\n",
    "\n",
    "plt.bar(range(len(MI)), MI)\n",
    "plt.xlabel('Feature')\n",
    "plt.ylabel('Mutual Information')\n",
    "plt.title('Feature Attention (MI)')\n"
   ]
  },
  {
   "cell_type": "markdown",
   "metadata": {},
   "source": [
    "Next, we'll dive a bit deeper into how this is performed. To compute the feature attention weights, we used the mutual information between the cue and the states. Imagine the 4th feature is 1 for every example across every state (e.g. \"bowl\" being the container for cereal). So knowing that the 4th element doesn't reduce our uncertainty at all among the states that we know: if it's 1, it could be any type of cereal. However, the 1st feature (color) is 1 for wheat cereal (gold) and 0 for chocolate cereal (brown). Thus, knowing the 1st feature reduces our uncertainty regarding which state the example belongs to. This level of surprise reduction is mathematically the entropy, and it is used in the calculation of mutual information, as defined by the equations:\n",
    "\n",
    "$I_{CS}(C_k,S) = H(C_k) - \\sum_{i} H(C_{k}^{i})$\n",
    "\n",
    "In this equation, $H(C_k)$ refers to the entropy of a cue (indexed by $k$) value across all states, and is calculated using\n",
    "\n",
    "$H(C_k) = \\sum_{t} p(c_k) log_{2}\\big(p(c_k(t))\\big)$.\n",
    "\n",
    "The value $H(C_{k}^{i}$ refers to the entropy of a cue value for an individual state, and is calculated with:\n",
    "\n",
    "$H(C_{k}^{i}) = p(s_{A,i}) \\sum_{t \\in s_{A,i}} p(c_k) log_{2}\\big(p(c_k(t))\\big)$. \n",
    "\n",
    "Nice in theory, but how does this play out for a functioning agent? Let's take the example of a single cue (0 or 1) that is defined across two states. We'll create a parameter \"prop_mix,\" that defines the mixing of the cue between states. If prop_mix=0, state 0 is entirely cue 1 and state 1 is entirely cue 0. For prop_mix=0.5, the cues are evenly spread between the two states, etc. The feature attention weight will be minimal when the feature value is evenly distributed across the states (prop_mix=0.5), and maximized when it is entirely different for both states (prop_mix=0.0). Moreover, it is impacted by the number of states active, and the proportion of trials for which they have appeared. \n",
    "\n",
    "The code below shows the entropy of each variable and the mutual information at each mixture level. Modify it to examine what happens as you asymmetrically shift the distributions of cues across states. "
   ]
  },
  {
   "cell_type": "code",
   "execution_count": 17,
   "metadata": {},
   "outputs": [
    {
     "data": {
      "image/png": "[encoded data removed]",
      "text/plain": [
       "<Figure size 432x288 with 1 Axes>"
      ]
     },
     "metadata": {
      "needs_background": "light"
     },
     "output_type": "display_data"
    }
   ],
   "source": [
    "# Modify the relative proportion of trials that each state has appeared\n",
    "prop_state_0 = 0.5\n",
    "prop_state_1 = 0.5\n",
    "\n",
    "# Make sure it normalizes to 1. We trust you to only provide float values!\n",
    "if prop_state_0 + prop_state_1 != 1:\n",
    "    sm = prop_state_0 + prop_state_1\n",
    "    prop_state_0, prop_state_1 = prop_state_0/sm, prop_state_1/sm\n",
    "    warnings.warn('The sum of the proportions of states is not 1. Values were re-normalized.')\n",
    "\n",
    "#Create variables\n",
    "n_trials_per_state = 100\n",
    "prop_mix = np.linspace(0,1,100)\n",
    "I, H_k, H_k_0, H_k_1 = prop_mix*0, prop_mix*0, prop_mix*0, prop_mix*0\n",
    "\n",
    "#Calculate the entropy at each mixture\n",
    "for p in range(len(prop_mix)):\n",
    "    #Get stimuli\n",
    "    stims_0 = np.zeros(n_trials_per_state)\n",
    "    stims_0[:np.round(n_trials_per_state*prop_mix[p]).astype(int)] = 1\n",
    "    stims_1 = np.ones(n_trials_per_state)\n",
    "    stims_1[:np.round(n_trials_per_state*prop_mix[p]).astype(int)] = 0\n",
    "    stims = np.concatenate((stims_0,stims_1))\n",
    "    #Calc entropy\n",
    "    H_k[p] = calcEntropy(stims)\n",
    "    H_k_0[p] = prop_state_0 * calcEntropy(stims_0)\n",
    "    H_k_1[p] = prop_state_1 * calcEntropy(stims_1)\n",
    "#Get mutual Information\n",
    "I = H_k - (H_k_0 + H_k_1)\n",
    "\n",
    "#Plot the data\n",
    "plt.plot(prop_mix,H_k,label='$H(C_k)$',linewidth=3,color='g')\n",
    "plt.plot(prop_mix,H_k_0,label='$H(C_{k}^{0})$',linewidth=3,color='b')\n",
    "plt.plot(prop_mix,H_k_1,label='$H(C_{k}^{1})$',linestyle='--',color='r',linewidth=5)\n",
    "plt.plot(prop_mix,I,label='$I_{CS}(C_k,S)$',linewidth=3,color='k')\n",
    "plt.xlabel('prop_mix',fontsize=16)\n",
    "plt.ylabel('Cue Entropy',fontsize=16)\n",
    "plt.title('Computation of Mutual Information',fontsize=16)\n",
    "plt.legend()\n",
    "plt.show()"
   ]
  },
  {
   "cell_type": "markdown",
   "metadata": {},
   "source": [
    "### Modulate Feature Attention\n",
    "A key feature of the model is that it modulates the weights based on the reward history, $\\bar{\\delta}$. The premise is that if the agent experiences a negative deviation from expected reward, it should increase attention to all features in the environment (i.e., reduce the use of mutual information). However, if the agent is experiencing the expected reward statistics, using attention reduces sensitivity to distracting information. \n",
    "\n",
    "To investigate the impact of this mechanisms, we implimented a parameter that linearly distorts the use of feature attention $\\xi_{distortion}$. Thus, the attention weights ($w_A$) can be described as the function: \n",
    "\n",
    "$w_{A} = f(MI,\\bar{\\delta},\\xi_{distortion})$\n",
    "\n",
    "To gain some intution for MI, $\\bar{\\delta}$ and $\\xi_{distortion}$, play with their values in the code below and see how that impacts the attention weights. "
   ]
  },
  {
   "cell_type": "code",
   "execution_count": 5,
   "metadata": {},
   "outputs": [
    {
     "data": {
      "text/plain": [
       "Text(0.5, 1.0, 'Modulated Feature Attention')"
      ]
     },
     "execution_count": 5,
     "metadata": {},
     "output_type": "execute_result"
    },
    {
     "data": {
      "image/png": "[encoded data removed]",
      "text/plain": [
       "<Figure size 432x288 with 1 Axes>"
      ]
     },
     "metadata": {
      "needs_background": "light"
     },
     "output_type": "display_data"
    }
   ],
   "source": [
    "#Just an example MI for the manipulation\n",
    "MI = np.array([1,0])\n",
    "\n",
    "# The model tracks the integrated negative reward prediction error. \n",
    "# The dynamic range is -5 to -10. \n",
    "delta_bar = 0\n",
    "\n",
    "# This parameter ranges from 0 to 1, where 0 means no distortion and 1 means full distortion.\n",
    "attention_distortion = 0\n",
    "\n",
    "w_A = modulateFeatureAttention(MI,delta_bar=delta_bar,attention_distortion=attention_distortion)\n",
    "\n",
    "plt.bar(['Feature 1','Feature 2'],w_A)\n",
    "plt.ylabel('Feature Attention Weight')\n",
    "plt.title('Modulated Feature Attention')\n"
   ]
  },
  {
   "cell_type": "markdown",
   "metadata": {},
   "source": [
    "## Estimate State\n",
    "\n",
    "![compute_feature_attention](files/diagram_estimate_state.png)\n",
    "\n",
    "The models estimate the current state, and are able to learn new states. To do this, the model determines how surprised it would be that the cue its encountering is generated by an underlying latent state. The use of surprise was mentioned earlier during the context inference section, but here we go just a bit more in depth. The models calculate suprise using a multivariate gaussian equation of the form, \n",
    "\n",
    "$P(s_{i} | c(t))P(c(t)) = \\frac{1}{\\sqrt{s\\pi^{n_c} |{I_{WS,i}}^{-1}|}} exp\\bigg( -\\frac{1}{2} D^2_i(c(t)) \\bigg)$.\n",
    "\n",
    "To unpack the left side of the equation, it gives the likelihood of a state given a set of cues. Let's start by playing with those cues and covariance. In the model, we measure the radial of the cues from the expected values using the equations,\n",
    "\n",
    "$Z_i(c(t)) = w_{A} ( c(t) - \\mu_{i})$\n",
    "\n",
    "and\n",
    "\n",
    "$D^2_i(c(t)) = Z_i(c(t))' I_{WS,i} Z_i(c(t))$.\n",
    "\n",
    "Let's say the agent is on a single trial, determining the suprise level for state 0. In the cell below, play with $c(t)$ and $mu_0$, then see how that changes the downstream variables. We'll also add an indicator for the creation of a new state. "
   ]
  },
  {
   "cell_type": "code",
   "execution_count": 6,
   "metadata": {},
   "outputs": [
    {
     "name": "stdout",
     "output_type": "stream",
     "text": [
      "Distance vector Z is [0. 0.]\n",
      "Radial distance D2 is 0.0\n",
      "Activation is 9.973557010035815\n",
      "Surprise is -2.299937291663528\n"
     ]
    }
   ],
   "source": [
    "#Values to play with\n",
    "c_t = np.array([1, 0]) #This is the stimulus seen on a specific trial. \n",
    "mu_0 = np.array([1, 0]) #This is the expected cue for the state\n",
    "\n",
    "#Values to keep consistent\n",
    "w_A = np.array([1, 1]) #This is the cue-weighting array.\n",
    "I_precision = np.eye(2)*25  #The precision weights for a State 0.\n",
    "surprise_threshold = 15  #The surprise threshold for a State 0.\n",
    "\n",
    "#Calculate the output\n",
    "Z = calcZ(w_A,c_t,mu_0)\n",
    "print('Distance vector Z is ' + str(Z))\n",
    "D2 = calcD2(Z,I_precision)[0][0]\n",
    "print('Radial distance D2 is ' + str(D2))\n",
    "A = calcActivation(I_precision,D2)\n",
    "print('Activation is ' + str(A))\n",
    "S = calcSurprise(A)\n",
    "print('Surprise is ' + str(S))\n",
    "\n",
    "if S > surprise_threshold:\n",
    "    print('\\nSurprise is above threshold. New State created!')"
   ]
  },
  {
   "cell_type": "markdown",
   "metadata": {},
   "source": [
    "This is a fairly simple engine for estimating the probability of a cue given a state. While we adopt it for conceptual simplicity,  The radial basis function as is results in stimulus matching. This is because the mechanism does not take into account perceptual noise, internal noise, nonlinear feature representation feature embending, decision uncertainty or other factors that can bring stimuli and internal states closer in perceptual space. To account for these in the most parsimonious way possible, we introduce a simple linear function that reduces the distance between the cues and internal states. The value is consistent throughout a session for all states. It is dictated by the parameter $\\xi_{bl}$, and described in the equation,\n",
    "\n",
    "$Z((ct)) = w_{A}(1 - \\xi_{bl})(c(t) - \\mu_{i}),$\n",
    "\n",
    "where $\\xi_{bl}$ controls the degree of bluring. \n",
    "\n",
    "We've added the parameter \"blur_states_param_linear\" ($\\xi_{bl}$) in the cell below. As you increase it, the surprise will decrease. "
   ]
  },
  {
   "cell_type": "code",
   "execution_count": 7,
   "metadata": {},
   "outputs": [
    {
     "name": "stdout",
     "output_type": "stream",
     "text": [
      "Distance vector Z is [0.5 0. ]\n",
      "Radial distance D2 is 6.25\n",
      "Activation is 0.4382075123392134\n",
      "Surprise is 0.8250627083364721\n"
     ]
    }
   ],
   "source": [
    "#Values to play with\n",
    "blur_states_param_linear=0.5 #Reduces the distance between cue and internal states. Must range from 0 to 1. \n",
    "c_t = np.array([1, 0]) #This is the stimulus seen on a specific trial. \n",
    "mu_0 = np.array([0, 0]) #This is the expected cue for the state\n",
    "\n",
    "#Values to keep consistent\n",
    "w_A = np.array([1, 1]) #This is the cue-weighting array.\n",
    "I_precision = np.eye(2)*25  #The precision weights for a State 0.\n",
    "surprise_threshold = 15  #The surprise threshold for a State 0.\n",
    "\n",
    "#Calculate the output\n",
    "Z = calcZ(w_A,c_t,mu_0,blur_states_param_linear=blur_states_param_linear)\n",
    "print('Distance vector Z is ' + str(Z))\n",
    "D2 = calcD2(Z,I_precision)[0][0]\n",
    "print('Radial distance D2 is ' + str(D2))\n",
    "A = calcActivation(I_precision,D2)\n",
    "print('Activation is ' + str(A))\n",
    "S = calcSurprise(A)\n",
    "print('Surprise is ' + str(S))\n",
    "\n",
    "if S > surprise_threshold:\n",
    "    print('\\nSurprise is above threshold. New State created!')\n",
    "\n"
   ]
  },
  {
   "cell_type": "markdown",
   "metadata": {},
   "source": [
    "### Estimate Prototype State\n",
    "\n",
    "Now, we will get into the specifics for the prototype version of the model (the ProDAtt). That model is described in the algorithm, \n",
    "\n",
    "![compute_feature_attention](files/algorithm_estimate_prototype_state.png)\n",
    "\n",
    "For each state, the model defines a prototype mean and a covariance matrix of past prototype cues. The inverse of the covariance matrix is the precision, which provides a good estimate of the weight. "
   ]
  },
  {
   "cell_type": "code",
   "execution_count": 8,
   "metadata": {},
   "outputs": [
    {
     "data": {
      "image/png": "[encoded data removed]",
      "text/plain": [
       "<Figure size 864x288 with 3 Axes>"
      ]
     },
     "metadata": {
      "needs_background": "light"
     },
     "output_type": "display_data"
    }
   ],
   "source": [
    "# Tweek this parameter, keeping it between 0 and 1\n",
    "prop_exemplar_1 = 0.5\n",
    "\n",
    "# Do some value checking\n",
    "if (type(prop_exemplar_1) != float) and type(prop_exemplar_1) != int:\n",
    "    raise ValueError('prop_exemplar_1 must be a float or int')\n",
    "if prop_exemplar_1 < 0 or prop_exemplar_1 > 1:\n",
    "    raise ValueError('prop_exemplar_1 must be between 0 and 1')\n",
    "\n",
    "# Two types of chocolate cereal (don't change this)\n",
    "state = np.array([\n",
    "    [1, 0, 1, 0, 1, 0], # Chocolate cereal with large bits (exemplar 1). \n",
    "    [1, 0, 0, 1, 1, 0], # Chocolate cereal with small bits (exemplar 2). \n",
    "])\n",
    "\n",
    "# Make the bank of state exemplars (don't change this)\n",
    "n_examples = 100\n",
    "state_examples = np.zeros((n_examples,state.shape[1]))\n",
    "state_examples[:np.round(n_examples*prop_exemplar_1).astype(int),:] = state[0,:]\n",
    "state_examples[np.round(n_examples*prop_exemplar_1).astype(int):,:] = state[1,:]\n",
    "\n",
    "# Compute the prototype mean, covariance and precision (don't change this)\n",
    "state_prototype_mu = np.mean(state_examples,axis=0)\n",
    "state_prototype_cov = np.cov(state_examples+np.random.randn(state_examples.shape[0],state_examples.shape[1])*10**-12,rowvar=False)\n",
    "state_prototype_precision = np.linalg.inv(state_prototype_cov)\n",
    "\n",
    "# Plot the results\n",
    "fig, ax = plt.subplots(1,3,figsize=(12,4))\n",
    "ax[0].bar(range(len(state_prototype_mu)),state_prototype_mu)\n",
    "ax[0].set_xlabel('Feature')\n",
    "ax[0].set_ylabel('$\\\\mu$ Value')\n",
    "ax[0].set_title('Prototype $\\\\mu$')\n",
    "ax[1].imshow(state_prototype_precision,cmap='magma')\n",
    "ax[1].set_xlabel('Feature')\n",
    "ax[1].set_ylabel('Feature')\n",
    "ax[1].set_title('Precision Matrix (Prototype Weights)')\n",
    "ax[2].bar(range(len(state_prototype_precision)),state_prototype_precision.diagonal())\n",
    "ax[2].set_xlabel('Feature')\n",
    "ax[2].set_ylabel('Precision Weight')\n",
    "ax[2].set_title('Precision Matrix Diagonal')\n",
    "plt.tight_layout()\n"
   ]
  },
  {
   "cell_type": "markdown",
   "metadata": {},
   "source": [
    "\n",
    "    \n",
    "Now, let's say the model encounters the following novel stimulus:\n",
    "\n",
    "cue = [1, 0, 1, 0, 1, 0, 1]\n",
    "\n",
    "The context it creates includes chocolate cereal, muesli cereal and chocolate crackers. However, given the last element in the cue vector, this novel cue doesn't perfectly match any of them. \n",
    "\n",
    "In the code below, examine how the surprise changes as you modify the proportions and switch out the cue. Also, try turning on and off feature attention to get a feel for how it changes the calculation\n",
    "\n",
    "initial cue = [1, 0, 1, 0, 1, 0]\n",
    "\n"
   ]
  },
  {
   "cell_type": "code",
   "execution_count": 9,
   "metadata": {},
   "outputs": [
    {
     "name": "stdout",
     "output_type": "stream",
     "text": [
      "Surprise for state 1 = 178.95336208478724\n",
      "Surprise for state 2 = 610.0625862394253\n",
      "Surprise for state 3 = 610.062625160774\n",
      "\n",
      "All states are above the threshold. Creating a new state.\n"
     ]
    }
   ],
   "source": [
    "## Variabels to play with \n",
    "USE_FEATURE_ATTENTION = False\n",
    "state_creation_threshold = 100\n",
    "state_1_exemplar_props = np.array([.5,.5]) # The proportional representation of each exemplar for state 1\n",
    "state_2_exemplar_props = np.array([1,0]) # The proportional representation of each exemplar for state 2\n",
    "state_3_exemplar_props = np.array([1,0]) # The proportional representation of each exemplar for state 2\n",
    "\n",
    "# The novel encounter\n",
    "cue = np.array([1, 0, 1, 0, 1, 0, 1]).astype(int) # Initial cue\n",
    "\n",
    "## Make the cereal types\n",
    "# Chocolate cereal\n",
    "state_1_exemplars = np.array([\n",
    "    [1, 0, 1, 0, 1, 0, 0], # Chocolate cereal with large bits (exemplar 1). \n",
    "    [1, 0, 0, 1, 1, 0, 0], # Chocolate cereal with small bits (exemplar 2). \n",
    "]).astype(int)\n",
    "# Muesli cereal\n",
    "state_2_exemplars = np.array([\n",
    "    [0, 1, 1, 0, 1, 0, 0], # Muesli cereal with large bits (exemplar 1). \n",
    "    [0, 1, 0, 1, 1, 0, 0], # Muesli cereal with small bits (exemplar 2). \n",
    "]).astype(int)\n",
    "# Chocolate crackers\n",
    "state_3_exemplars = np.array([\n",
    "    [1, 0, 1, 0, 0, 1, 0], # Chocolate crackers with large bits (exemplar 1). \n",
    "    [1, 0, 0, 1, 0, 1, 0], # Chocolate crackers with small bits (exemplar 2). \n",
    "]).astype(int)\n",
    "\n",
    "# Create the state examples. This time, we've cleaned it up in a function for you. \n",
    "state_1 = createPrototypeState(state_1_exemplars,exemplar_props=state_1_exemplar_props,noise_sigma=10**-8,n_examples=70)\n",
    "state_2 = createPrototypeState(state_2_exemplars,exemplar_props=state_2_exemplar_props,noise_sigma=10**-6,n_examples=70)\n",
    "state_3 = createPrototypeState(state_3_exemplars,exemplar_props=state_3_exemplar_props,noise_sigma=10**-6,n_examples=70)\n",
    "\n",
    "# Get the feature attention (look back a few steps to refresh on these steps)\n",
    "delta_bar = 0 # Integrated negative RPE\n",
    "attention_distortion = 0 #Distortion of feature attention\n",
    "if USE_FEATURE_ATTENTION:\n",
    "    MI = calcMI([state_1['examples'],state_2['examples'],state_3['examples']])\n",
    "else:\n",
    "    MI = cue*0+.5\n",
    "w_A = modulateFeatureAttention(MI,delta_bar=delta_bar,attention_distortion=attention_distortion)\n",
    "\n",
    "# Calculate the surprise for each state\n",
    "blur_states_param_linear = 0.95\n",
    "state_1_surprise = calcStateSurprise(cue,state_1['mu'], state_1['precision'], w_A,blur_states_param_linear=blur_states_param_linear)\n",
    "state_2_surprise = calcStateSurprise(cue,state_2['mu'], state_2['precision'], w_A,blur_states_param_linear=blur_states_param_linear)\n",
    "state_3_surprise = calcStateSurprise(cue,state_3['mu'], state_3['precision'], w_A,blur_states_param_linear=blur_states_param_linear)\n",
    "\n",
    "\n",
    "print(f'Surprise for state 1 = {state_1_surprise}')\n",
    "print(f'Surprise for state 2 = {state_2_surprise}')\n",
    "print(f'Surprise for state 3 = {state_3_surprise}')\n",
    "\n",
    "\n",
    "if all([state_1_surprise>state_creation_threshold,state_2_surprise>state_creation_threshold,state_3_surprise>\\\n",
    "    state_creation_threshold]):\n",
    "    print('\\nAll states are above the threshold. Creating a new state.')\n"
   ]
  },
  {
   "cell_type": "markdown",
   "metadata": {},
   "source": [
    "If more than one state is below the surprise threshold, the model then estimates a state using a softmax function over the likelihood values.\n",
    "\n",
    "$P\\big(\\textnormal{select state } s(t)| P(c(t) | s_{i})\\big) = exp(\\beta_{S} P(c(t) | s_{i})/\\sum_{i}\n",
    "exp(\\beta_{state} P(c(t) | s_{i})$\n"
   ]
  },
  {
   "cell_type": "markdown",
   "metadata": {},
   "source": [
    "### Estimate Exemplar State\n",
    "\n",
    "There is considerable debate in category learning as to whether, or in what task settings, humans compare new observations to prototypes, or to individual category exemplars. Under a prototype model, the distance to a new observation is calculated relative to a single state prototype for each state. Under an exemplar model, the distance of a new observation is calculated for every prior state example. The observation's distance from the state is a combination of individual distances.\n",
    "\n",
    "To investigate exemplar state learning, we developed the ExDAtt model. The ExDAtt model is similar to the ProDAtt but for two essetial differences:\n",
    "- It doesn't use the covariance among all exemplars.\n",
    "- It calculates the surprise for each state exemplar, and then determines the state surprise through a weighted average of that for each exemplar. \n",
    "\n",
    "This is demonstrated in the following algorithm,\n",
    "\n",
    "![estimate_exemplar_state](files/algorithm_estimate_exemplar_state_2.png)\n",
    "\n",
    "To get the basic idea, work with computing the surprise of a single state. Play with the proportion of exemplar 1 and 2. See how that affects the ultimate surprise value. "
   ]
  },
  {
   "cell_type": "code",
   "execution_count": 2,
   "metadata": {},
   "outputs": [
    {
     "name": "stdout",
     "output_type": "stream",
     "text": [
      "Surprise for state 0 = -38.44815159886696\n",
      "Surprise for state 1 = 274.05184838112547\n",
      "State surprise = 117.80184839112925\n"
     ]
    }
   ],
   "source": [
    "# Play with this value\n",
    "exemplar_props=np.array([0.5,0.5])\n",
    "\n",
    "\n",
    "# The novel encounter\n",
    "cue = np.array([1, 0, 1, 0, 1, 0]).astype(int) # Initial cue\n",
    "\n",
    "state_exemplars = np.array([\n",
    "    [1, 0, 1, 0, 1, 0], # Chocolate cereal with large bits (exemplar 1). \n",
    "    [1, 0, 0, 1, 1, 0], # Chocolate cereal with small bits (exemplar 2). \n",
    "]).astype(int)\n",
    "\n",
    "state = createExemplarState(state_exemplars,exemplar_props=exemplar_props)\n",
    "\n",
    "exemplar_surprises = []\n",
    "for s in range(len(state)):\n",
    "    surprise = calcStateSurprise(cue,state[s]['mu'], state[s]['precision'],blur_states_param_linear=0.95)\n",
    "    print(f'Surprise for state {s} = {surprise}')\n",
    "    exemplar_surprises.append(surprise*exemplar_props[s])\n",
    "\n",
    "print(f'State surprise = {np.sum(exemplar_surprises)}')"
   ]
  },
  {
   "cell_type": "markdown",
   "metadata": {},
   "source": [
    "## Select Action\n",
    "\n",
    "Each state learns a set of action values. The selection of an action therefore is a simple softmax function over those values. \n",
    "\n",
    "![select_action](files/algorithm_select_action.png)"
   ]
  },
  {
   "cell_type": "code",
   "execution_count": 3,
   "metadata": {},
   "outputs": [
    {
     "name": "stdout",
     "output_type": "stream",
     "text": [
      "Action probabilities are [0.15277303 0.34000264 0.50722433]\n",
      "Action 3 was chosen.\n"
     ]
    }
   ],
   "source": [
    "action_values = np.array([0.1,.5,.7])\n",
    "beta = 2\n",
    "\n",
    "action_probabilities = softmax(action_values, beta=beta)\n",
    "\n",
    "action = np.random.choice(np.arange(0, len(action_probabilities)),\n",
    "                                      p=action_probabilities)\n",
    "\n",
    "print(f'Action probabilities are {action_probabilities}')\n",
    "print(f'Action {action+1} was chosen.')"
   ]
  },
  {
   "cell_type": "markdown",
   "metadata": {},
   "source": [
    "## Update State\n",
    "\n",
    "On every trial, the selected action is updated using the Rescola-Wagner equation. If the agent received a reward on the trial, then it updates the state with a new example. The process is described in the algorithm,\n",
    "\n",
    "![compute_feature_attention](files/algorithm_update_state.png)\n",
    "\n",
    "We have left a few comments below for you to complete using the described algorithm. "
   ]
  },
  {
   "cell_type": "code",
   "execution_count": 5,
   "metadata": {},
   "outputs": [],
   "source": [
    "reward = True\n",
    "action_value = 0.7\n",
    "learning_rate = 0.1 # eta value\n",
    "\n",
    "#Create the state\n",
    "state = createPrototypeState(np.array([[1, 0, 1, 0, 1, 0], [1, 0, 0, 1, 1, 0]]))\n",
    "\n",
    "# Implement an RW update on the action value\n",
    "\n",
    "\n",
    "## IF REWARD IS RECEIVED\n",
    "# update the state with a new example\n",
    "\n",
    "# Update mu\n",
    "\n",
    "# Recalculate precision (we provided an equation to help)\n",
    "calcPrecision(state['examples'])"
   ]
  },
  {
   "cell_type": "markdown",
   "metadata": {},
   "source": [
    "## Induce State Estimation Error\n",
    "Most human subjects seemed to be commiting errors biased towards similar states,, while some human subjects produced errors that were. To gain insight into the pattern of errors produced by state estimation, we introduced a mechanism whereby it:\n",
    "- Probabilistically made an error in state selection, and\n",
    "- Could vary between randomly selecting another state to selecting the one most perceptually similar. \n",
    "\n",
    "The process is outlined in the algorithm, \n",
    "\n",
    "![compute_feature_attention](files/algorithm_induce_state_estimation_error.png)\n",
    "\n",
    "At its core, the mechanism utilizes a common representational similarity metric. The euclidean distance between states is computed, and then a softmax function turns those distances into selection probabilities. \n",
    "\n",
    "To gain insight, start by seeing how the state representations are converted into distances. "
   ]
  },
  {
   "cell_type": "code",
   "execution_count": 6,
   "metadata": {},
   "outputs": [
    {
     "data": {
      "image/png": "[encoded data removed]",
      "text/plain": [
       "<Figure size 288x288 with 2 Axes>"
      ]
     },
     "metadata": {
      "needs_background": "light"
     },
     "output_type": "display_data"
    }
   ],
   "source": [
    "state_1_exemplar_props = np.array([.5,.5]) # The proportional representation of each exemplar for state 1\n",
    "state_2_exemplar_props = np.array([1,0]) # The proportional representation of each exemplar for state 2\n",
    "state_3_exemplar_props = np.array([1,0]) # The proportional representation of each exemplar for state 2\n",
    "\n",
    "# The novel encounter\n",
    "cue = np.array([1, 0, 1, 0, 1, 0, 1]).astype(int) # Initial cue\n",
    "\n",
    "## Make the cereal types\n",
    "# Chocolate cereal\n",
    "state_1_exemplars = np.array([\n",
    "    [1, 0, 1, 0, 1, 0, 0], # Chocolate cereal with large bits (exemplar 1). \n",
    "    [1, 0, 0, 1, 1, 0, 0], # Chocolate cereal with small bits (exemplar 2). \n",
    "]).astype(int)\n",
    "# Muesli cereal\n",
    "state_2_exemplars = np.array([\n",
    "    [0, 1, 1, 0, 1, 0, 0], # Muesli cereal with large bits (exemplar 1). \n",
    "    [0, 1, 0, 1, 1, 0, 0], # Muesli cereal with small bits (exemplar 2). \n",
    "]).astype(int)\n",
    "# Chocolate crackers\n",
    "state_3_exemplars = np.array([\n",
    "    [1, 0, 1, 0, 0, 1, 0], # Chocolate crackers with large bits (exemplar 1). \n",
    "    [1, 0, 0, 1, 0, 1, 0], # Chocolate crackers with small bits (exemplar 2). \n",
    "]).astype(int)\n",
    "\n",
    "# Create the state examples. This time, we've cleaned it up in a function for you. \n",
    "state_1 = createPrototypeState(state_1_exemplars,exemplar_props=state_1_exemplar_props,noise_sigma=10**-8,n_examples=70)\n",
    "state_2 = createPrototypeState(state_2_exemplars,exemplar_props=state_2_exemplar_props,noise_sigma=10**-6,n_examples=70)\n",
    "state_3 = createPrototypeState(state_3_exemplars,exemplar_props=state_3_exemplar_props,noise_sigma=10**-6,n_examples=70)\n",
    "\n",
    "# Calculate the representational disimilarity matrix\n",
    "representation = np.array([state_1['mu'],state_2['mu'],state_3['mu']])\n",
    "rdm = representationToRDM(representation)\n",
    "\n",
    "# plot it\n",
    "plotRDM(rdm)\n",
    "plt.show()\n"
   ]
  },
  {
   "cell_type": "markdown",
   "metadata": {},
   "source": [
    "Now, use those distance values to determine the state that gets substituted. The lower the beta parameter, the more random the agent ends up being in its errors. The higher beta, the more an agent's errors are biased for the similar state.  "
   ]
  },
  {
   "cell_type": "code",
   "execution_count": 7,
   "metadata": {},
   "outputs": [
    {
     "name": "stdout",
     "output_type": "stream",
     "text": [
      "The state selection probabilities are [0.01494072 0.         0.98505928]\n",
      "The estimated state is 2\n"
     ]
    }
   ],
   "source": [
    "# Manipulate these variables\n",
    "state_initially_estimated = 1 # provide an index for the estimated state. If you're using the examples, its 1, 2 or 3\n",
    "beta_state_estimation = 10 # Random estimation (low beta) to going for the closest state (high beta). \n",
    "\n",
    "\n",
    "# Get the selection probabilities\n",
    "if type(state_initially_estimated) != int:\n",
    "    raise ValueError('state_initially_estimated must be an integer')\n",
    "distances = rdm[state_initially_estimated,:].copy()\n",
    "distances[state_initially_estimated] = np.nan\n",
    "selection_probabilities = softmax(distances, beta=beta_state_estimation)\n",
    "selection_probabilities[np.isnan(selection_probabilities)] = 0\n",
    "\n",
    "# Determine the state that will be selected\n",
    "final_state_estimated = np.random.choice(np.arange(0, len(selection_probabilities)),\n",
    "                                      p=selection_probabilities)\n",
    "\n",
    "print(f'The state selection probabilities are {selection_probabilities}')\n",
    "print(f'The estimated state is {final_state_estimated}')\n"
   ]
  },
  {
   "cell_type": "code",
   "execution_count": 10,
   "metadata": {},
   "outputs": [
    {
     "data": {
      "text/plain": [
       "True"
      ]
     },
     "execution_count": 10,
     "metadata": {},
     "output_type": "execute_result"
    }
   ],
   "source": [
    "cue = np.array([1, 0, 1, 0, 1, 0]).astype(int)\n",
    "(type(cue[0]) == np.int64)"
   ]
  },
  {
   "cell_type": "markdown",
   "metadata": {},
   "source": []
  }
 ],
 "metadata": {
  "kernelspec": {
   "display_name": "Python 3.9.10 ('pymc-dev-py39')",
   "language": "python",
   "name": "python3"
  },
  "language_info": {
   "codemirror_mode": {
    "name": "ipython",
    "version": 3
   },
   "file_extension": ".py",
   "mimetype": "text/x-python",
   "name": "python",
   "nbconvert_exporter": "python",
   "pygments_lexer": "ipython3",
   "version": "3.9.10"
  },
  "orig_nbformat": 4,
  "vscode": {
   "interpreter": {
    "hash": "46951f787628640bbaba89bcbf6f31fbe41654cfbab969c5b21b33210a247726"
   }
  }
 },
 "nbformat": 4,
 "nbformat_minor": 2
}
