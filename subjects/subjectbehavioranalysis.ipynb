{
 "cells": [
  {
   "cell_type": "code",
   "execution_count": 4,
   "metadata": {},
   "outputs": [
    {
     "ename": "ModuleNotFoundError",
     "evalue": "No module named 'analysis'",
     "output_type": "error",
     "traceback": [
      "\u001b[0;31m---------------------------------------------------------------------------\u001b[0m",
      "\u001b[0;31mModuleNotFoundError\u001b[0m                       Traceback (most recent call last)",
      "\u001b[0;32m<ipython-input-4-900375f322e1>\u001b[0m in \u001b[0;36m<module>\u001b[0;34m\u001b[0m\n\u001b[1;32m      6\u001b[0m \u001b[0;32mimport\u001b[0m \u001b[0mseaborn\u001b[0m \u001b[0;32mas\u001b[0m \u001b[0msns\u001b[0m\u001b[0;34m\u001b[0m\u001b[0;34m\u001b[0m\u001b[0m\n\u001b[1;32m      7\u001b[0m \u001b[0;34m\u001b[0m\u001b[0m\n\u001b[0;32m----> 8\u001b[0;31m \u001b[0;32mfrom\u001b[0m \u001b[0manalysis\u001b[0m\u001b[0;34m.\u001b[0m\u001b[0mplotfunctions\u001b[0m \u001b[0;32mimport\u001b[0m \u001b[0mplotNovelExampleGenLCs\u001b[0m\u001b[0;34m\u001b[0m\u001b[0;34m\u001b[0m\u001b[0m\n\u001b[0m",
      "\u001b[0;31mModuleNotFoundError\u001b[0m: No module named 'analysis'"
     ]
    }
   ],
   "source": [
    "# from subjects.subjectsfunctions import *\n",
    "import os\n",
    "import numpy as np\n",
    "import matplotlib.pyplot as plt\n",
    "import pandas as pd\n",
    "import seaborn as sns\n",
    "\n",
    "from analysis.plotfunctions import plotNovelExampleGenLCs"
   ]
  },
  {
   "cell_type": "markdown",
   "metadata": {},
   "source": [
    "# Functions "
   ]
  },
  {
   "cell_type": "code",
   "execution_count": 34,
   "metadata": {},
   "outputs": [],
   "source": [
    "def splitSubjectsCatGenPerf(data, generalization_att='texture',perf_thresh=0.0,n_trials_back=10,\n",
    "                            return_subject_ids=False):\n",
    "    \"\"\"\n",
    "    Splits performance between learned and novel stimuli during the Generalization block of the Category Generalization\n",
    "    :param data: Dataframe containing all subjects\n",
    "    :param generalization_att: Attribute used for generalization\n",
    "    :return: performance_learned_mat, performance_novel_mat\n",
    "    \"\"\"\n",
    "    performance_categorization, performance_learned, performance_novel = [], [], []\n",
    "    mx_learned, mx_novel = 0, 0\n",
    "    subject_ids = np.unique(data['subject_id'])\n",
    "    subj_ids = []\n",
    "    # Collect the data\n",
    "    for a in range(len(subject_ids)):\n",
    "        data_subj = data.loc[(data['subject_id'] == subject_ids[a]), :]\n",
    "        performance_categorization_tmp, performance_learned_tmp, performance_novel_tmp = \\\n",
    "            splitSubjectCatGenPerf(data_subj,generalization_att=generalization_att)\n",
    "        if np.mean(performance_categorization_tmp[-n_trials_back:]) < perf_thresh:\n",
    "            continue\n",
    "        subj_ids.append(subject_ids[a])\n",
    "        performance_categorization.append(performance_categorization_tmp)\n",
    "        performance_learned.append(performance_learned_tmp)\n",
    "        performance_novel.append(performance_novel_tmp)\n",
    "        mx_learned = max(mx_learned, len(performance_learned_tmp))\n",
    "        mx_novel = max(mx_novel, len(performance_novel_tmp))\n",
    "\n",
    "    performance_learned_mat, performance_novel_mat = np.zeros((len(subj_ids), mx_learned)) * np.nan, \\\n",
    "                                                     np.zeros((len(subj_ids), mx_novel)) * np.nan\n",
    "    performance_categorization_mat = np.array(performance_categorization)\n",
    "    # Convert the list to a matrix\n",
    "    for a in range(len(subj_ids)):\n",
    "        performance_learned_mat[a, :len(performance_learned[a])] = performance_learned[a]\n",
    "        performance_novel_mat[a, :len(performance_novel[a])] = performance_novel[a]\n",
    "\n",
    "    if return_subject_ids:\n",
    "        return performance_categorization_mat, performance_learned_mat, performance_novel_mat, subj_ids\n",
    "    else:\n",
    "        return performance_categorization_mat, performance_learned_mat, performance_novel_mat\n",
    "\n",
    "\n",
    "def splitSubjectCatGenPerf(data_subj, generalization_att='texture'):\n",
    "    \"\"\"\n",
    "    Splits performance between learned and novel stimuli during the Generalization block of the Category Generalization\n",
    "    task\n",
    "    :param data_subj: Dataframe for a specific subject\n",
    "    :param generalization_att: Attribute used for generalization\n",
    "    :return: performance_learned, performance_novel\n",
    "    \"\"\"\n",
    "    #First, the categorization block\n",
    "    performance_categorization = data_subj.loc[data_subj['block'] == 'Conditioning', 'largest_chosen']\n",
    "    # Narrow down the stimuli\n",
    "    learned_att = np.unique(data_subj.loc[data_subj['block'] != 'Generalization', generalization_att])[0]\n",
    "    data_subj = data_subj.loc[data_subj['block'] == 'Generalization', :]\n",
    "    performance_learned = np.array(data_subj.loc[data_subj[generalization_att] == learned_att, 'largest_chosen'])\n",
    "    performance_novel = np.array(data_subj.loc[data_subj[generalization_att] != learned_att, 'largest_chosen'])\n",
    "\n",
    "    return performance_categorization, performance_learned, performance_novel"
   ]
  },
  {
   "cell_type": "markdown",
   "metadata": {},
   "source": [
    "# Load data\n",
    "The data is available separately in the repository X. Please place it in the subject/data directory for everything to move smoothly"
   ]
  },
  {
   "cell_type": "code",
   "execution_count": 32,
   "metadata": {},
   "outputs": [],
   "source": [
    "file_dir = 'data/'\n",
    "\n",
    "data_CGv1 = pd.read_csv(os.path.join(file_dir, 'context_generalization_v1_behavior.csv'))\n",
    "subjects_CGv1 = pd.read_csv(os.path.join(file_dir, 'context_generalization_v1_subjects.csv'))\n",
    "data_CGv2_initial = pd.read_csv(os.path.join(file_dir, 'context_generalization_v2_behavior_initial.csv'))\n",
    "data_CGv2_replication = pd.read_csv(os.path.join(file_dir, 'context_generalization_v2_behavior_replication.csv'))\n",
    "subjects_CGv2_initial = pd.read_csv(os.path.join(file_dir, 'context_generalization_v2_subjects_initial.csv'))\n",
    "subjects_CGv2_replication = pd.read_csv(os.path.join(file_dir, 'context_generalization_v2_subjects_replication.csv'))\n",
    "data_EG = pd.read_csv(os.path.join(file_dir, 'example_generalization_behavior_initial.csv'))\n",
    "data_EG = pd.read_csv(os.path.join(file_dir, 'example_generalization_behavior_replication.csv'))\n",
    "subjects_EG_initial = pd.read_csv(os.path.join(file_dir, 'example_generalization_subjects_initial.csv'))\n",
    "subjects_EG_replication = pd.read_csv(os.path.join(file_dir, 'example_generalization_subjects_replication.csv'))\n"
   ]
  },
  {
   "cell_type": "code",
   "execution_count": 33,
   "metadata": {},
   "outputs": [
    {
     "name": "stdout",
     "output_type": "stream",
     "text": [
      "367\n",
      "199\n"
     ]
    }
   ],
   "source": [
    "n_male = np.sum(subjects_CGv1['gender']=='male') + np.sum(subjects_CGv2_initial['gender']=='male') + np.sum(subjects_CGv2_replication['gender']=='male') + \\\n",
    "    np.sum(subjects_EG_initial['gender']=='male') + np.sum(subjects_EG_replication['gender']=='male')\n",
    "n_female = np.sum(subjects_CGv1['gender']=='female') + np.sum(subjects_CGv2_initial['gender']=='female') + np.sum(subjects_CGv2_replication['gender']=='female') + \\\n",
    "    np.sum(subjects_EG_initial['gender']=='female') + np.sum(subjects_EG_replication['gender']=='female')\n",
    "\n",
    "print(n_male)\n",
    "print(n_female)\n"
   ]
  },
  {
   "cell_type": "code",
   "execution_count": 36,
   "metadata": {},
   "outputs": [],
   "source": [
    "data = data_EG\n",
    "\n",
    "performance_categorization_mat, performance_learned_mat, performance_novel_mat, \\\n",
    "    subj_ids = splitSubjectsCatGenPerf(data, \n",
    "        generalization_att='texture',\n",
    "        perf_thresh=0.0,\n",
    "        n_trials_back=10,\n",
    "        return_subject_ids=True)"
   ]
  },
  {
   "cell_type": "code",
   "execution_count": null,
   "metadata": {},
   "outputs": [],
   "source": []
  }
 ],
 "metadata": {
  "kernelspec": {
   "display_name": "Python 3.7.10 ('py37aa')",
   "language": "python",
   "name": "python3"
  },
  "language_info": {
   "codemirror_mode": {
    "name": "ipython",
    "version": 3
   },
   "file_extension": ".py",
   "mimetype": "text/x-python",
   "name": "python",
   "nbconvert_exporter": "python",
   "pygments_lexer": "ipython3",
   "version": "3.7.10"
  },
  "orig_nbformat": 4,
  "vscode": {
   "interpreter": {
    "hash": "45be05098131c231e0363097d298a1463b1f2e9c90873438f63bc7a28459c715"
   }
  }
 },
 "nbformat": 4,
 "nbformat_minor": 2
}
